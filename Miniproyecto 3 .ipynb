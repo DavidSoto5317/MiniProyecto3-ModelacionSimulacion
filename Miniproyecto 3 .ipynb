{
 "cells": [
  {
   "cell_type": "markdown",
   "metadata": {},
   "source": [
    "# Miniproyecto 3"
   ]
  },
  {
   "cell_type": "markdown",
   "metadata": {},
   "source": [
    "### David Soto 17551 & Miguel Valle 17102"
   ]
  },
  {
   "cell_type": "code",
   "execution_count": 1,
   "metadata": {},
   "outputs": [],
   "source": [
    "### Librerias a utilizar para la simulacion\n",
    "import numpy as np\n",
    "import random"
   ]
  },
  {
   "cell_type": "markdown",
   "metadata": {},
   "source": [
    "### Función generadora de tiempos de estadía/salida"
   ]
  },
  {
   "cell_type": "code",
   "execution_count": 2,
   "metadata": {},
   "outputs": [],
   "source": [
    "# Funcion para calcular el proximo tiempo de llegada\n",
    "def tiempoProximaSalida(t, lamda_max, homo):\n",
    "    if homo:\n",
    "        return t - ((1/lamda_max)*np.log(random.random()))\n",
    "    else:\n",
    "        while True:\n",
    "            u = random.random()\n",
    "            t = t - ((1/lamda_max)*np.log(u))\n",
    "            u = random.random()\n",
    "            if u <= np.random.poisson(t)/lamda_max:\n",
    "                return t"
   ]
  },
  {
   "cell_type": "markdown",
   "metadata": {},
   "source": [
    "### Funcion simuladora de eventos"
   ]
  },
  {
   "cell_type": "code",
   "execution_count": 3,
   "metadata": {},
   "outputs": [],
   "source": [
    "### Funcion que determina cómo procede el evento segun el tiempo dela simulacion\n",
    "def evento(t, n, Na, C, busyTime, A, D, NT, ta, td, ids, lamda_max, no_cpus, speed):\n",
    "    ### Si la proxima peticion es el ultimo registrado en el sistema, entonces hay un servidor libre que lo puede atender\n",
    "    if ta == min(ta,min(td)): \n",
    "        t = ta\n",
    "        Na = Na + 1\n",
    "        ta = tiempoProximaSalida(t, lamda_max, True)\n",
    "        A[Na] = t\n",
    "        ### Si la cantidad de peticiones en el sistema es menor a la cantidad de cpus\n",
    "        ### es porque la proxima peticion puede ser procesada por un servidor\n",
    "        if n < no_cpus:\n",
    "            for i in range(no_cpus):\n",
    "                if ids[i] == 0:\n",
    "                    ids[i] = Na\n",
    "                    NT = np.append(NT, t - A[Na])\n",
    "                    td[i] = t + np.random.exponential(speed)\n",
    "                    busyTime[i] = busyTime[i] + td[i] - t\n",
    "                    break\n",
    "        n = n + 1\n",
    "    else:\n",
    "        ### Esto ocurre en caso de que no haya un servidor desocupado al momento de llegar\n",
    "        ti = np.argmin(td)\n",
    "        t = td[ti]\n",
    "        C[ti] = C[ti] + 1\n",
    "        D[ids[ti]] = t\n",
    "        ### En caso la cantidad de clientes sea menor o igual a la cantidad de servidores\n",
    "        ### Se libera un CPU\n",
    "        if n <= no_cpus:\n",
    "            ### Se elimina a la ultima peticion del ID register\n",
    "            ids[ti] = 0\n",
    "            td[ti] = np.infty\n",
    "        ### Si todavia hay mas clientes por atender\n",
    "        else: \n",
    "            indice = max(ids) + 1\n",
    "            ### Se actualiza el indice\n",
    "            ids[ti] = indice\n",
    "            NT = np.append(NT , t - A[indice])\n",
    "            td[ti] = t + np.random.exponential(speed)\n",
    "            busyTime[ti] = busyTime[ti] + td[ti] - t\n",
    "        n = n - 1\n",
    "        \n",
    "    ### Retornamos las variables para actualizacion y seguir el proceso de la simulacion \n",
    "    return t, n, Na, C, busyTime, A, D, NT, ta, td, ids"
   ]
  },
  {
   "cell_type": "markdown",
   "metadata": {},
   "source": [
    "### Funcion simuladora del procesamiento de peticiones"
   ]
  },
  {
   "cell_type": "code",
   "execution_count": 4,
   "metadata": {},
   "outputs": [],
   "source": [
    "### Funcion para realizar la simulacion\n",
    "def simular(duracion_simulacion, lamda_max, speed,no_cpus):\n",
    "    ### Variable de tiempo de simulacion\n",
    "    t = 0\n",
    "    \n",
    "    # Variables contadores\n",
    "    Na = 0\n",
    "    C = np.zeros(no_cpus) \n",
    "    busyTime = np.zeros(no_cpus)\n",
    "    \n",
    "    ### Variable estado del sistema\n",
    "    n = 0\n",
    "\n",
    "    ### Variables para el control de datos\n",
    "    A = {}\n",
    "    D = {}\n",
    "    NT = []\n",
    "    \n",
    "    # Variables de eventos de tiempos de llegada y salida\n",
    "    ta = tiempoProximaSalida(t,lamda_max, True)\n",
    "    td = np.zeros(no_cpus) + np.infty\n",
    "    ids = np.zeros(no_cpus)\n",
    "    \n",
    "    # Se realiza la simulacion hasta que se llegue al tiempo final de esta\n",
    "    while t < duracion_simulacion:\n",
    "        ### Realizamos la simulacion de un evento al timepo t\n",
    "        t, n, Na, C, busyTime, A, D, NT, ta, td, ids = evento(t, n, Na, C, busyTime, A, D, NT, ta, td, ids, lamda_max, no_cpus, speed)\n",
    "        \n",
    "    ### Mostramos los resultados de las variables de la somulacion\n",
    "    print(\"Solicitudes atendidas: \", C)\n",
    "    print(\"Tiempos de ocupacion de servidores: \", busyTime)\n",
    "    print(\"Tiempos libres de servidores: \", np.maximum(np.ones(no_cpus)*duracion_simulacion - busyTime,0))\n",
    "    print(\"Tiempo de solicitudes en cola: \", np.round(sum(NT),5))\n",
    "    print(\"Promedio de solicitudes en cola:\", np.round(np.mean(NT),5))\n",
    "    print(\"Tiempo de salida de la ultima solicitud atendida: \", np.round(td[-1],8))"
   ]
  },
  {
   "cell_type": "markdown",
   "metadata": {},
   "source": [
    "## Task 1 - Simulacion con 2400 solicitudes por minuto"
   ]
  },
  {
   "cell_type": "markdown",
   "metadata": {},
   "source": [
    "### Simulacion - 2400 solicitudes por minuto -  Gorilla Megacomputing"
   ]
  },
  {
   "cell_type": "code",
   "execution_count": 5,
   "metadata": {},
   "outputs": [
    {
     "name": "stdout",
     "output_type": "stream",
     "text": [
      "Simulacion para Gorilla Megacomputing con 1 CPU y una velocidad de 0.00017 solicitudes/s\n",
      "Solicitudes atendidas:  [143995.]\n",
      "Tiempos de ocupacion de servidores:  [24.06576165]\n",
      "Tiempos libres de servidores:  [35.93423835]\n",
      "Tiempo de solicitudes en cola:  16.09402\n",
      "Promedio de solicitudes en cola: 0.00011\n",
      "Tiempo de salida de la ultima solicitud atendida:  60.0006875\n"
     ]
    }
   ],
   "source": [
    "### Variables constantes para la simulacion\n",
    "solicitudes_max = 2400\n",
    "duracionSimulacion = 60\n",
    "speed = 1/(100*60)\n",
    "cpus = 1\n",
    "\n",
    "### Procesamiento de cada simulacion\n",
    "print(\"Simulacion para Gorilla Megacomputing con 1 CPU y una velocidad de\", round(speed, 5), \"solicitudes/s\")\n",
    "simular(duracionSimulacion,solicitudes_max, speed, cpus)\n"
   ]
  },
  {
   "cell_type": "markdown",
   "metadata": {},
   "source": [
    "### Simulacion - 2400 solicitudes por minuto - Ants smart computing"
   ]
  },
  {
   "cell_type": "code",
   "execution_count": 6,
   "metadata": {
    "scrolled": true
   },
   "outputs": [
    {
     "name": "stdout",
     "output_type": "stream",
     "text": [
      "Simulacion para Ants smart computing con 10 CPU y una velocidad de 0.00167 solicitudes/s\n",
      "Solicitudes atendidas:  [28918. 26510. 23647. 20320. 16428. 11978.  8045.  4899.  2659.  1359.]\n",
      "Tiempos de ocupacion de servidores:  [48.07454029 44.5148567  39.91501882 33.97314639 27.22216822 19.83611898\n",
      " 13.54708189  8.12224756  4.46337866  2.23912107]\n",
      "Tiempos libres de servidores:  [11.92545971 15.4851433  20.08498118 26.02685361 32.77783178 40.16388102\n",
      " 46.45291811 51.87775244 55.53662134 57.76087893]\n",
      "Tiempo de solicitudes en cola:  0.35453\n",
      "Promedio de solicitudes en cola: 0.0\n",
      "Tiempo de salida de la ultima solicitud atendida:  inf\n"
     ]
    }
   ],
   "source": [
    "### Variables constantes para la simulacion\n",
    "solicitudes_max = 2400\n",
    "duracionSimulacion = 60\n",
    "speed = 1/(10*60)\n",
    "cpus = 10\n",
    "\n",
    "### Procesamiento de cada simulacion\n",
    "print(\"Simulacion para Ants smart computing con 10 CPU y una velocidad de\", round(speed, 5), \"solicitudes/s\")\n",
    "simular(duracionSimulacion,solicitudes_max, speed, cpus)\n"
   ]
  },
  {
   "cell_type": "markdown",
   "metadata": {},
   "source": [
    "## Task 2 - Determinacion de numero de servidores para no tener cola con Ants con 2400 solicitudes por minuto"
   ]
  },
  {
   "cell_type": "markdown",
   "metadata": {},
   "source": [
    "### Simulacion - 2400 solicitudes por minuto - Ants smart computing"
   ]
  },
  {
   "cell_type": "code",
   "execution_count": 7,
   "metadata": {},
   "outputs": [
    {
     "name": "stdout",
     "output_type": "stream",
     "text": [
      "Simulacion para Ants smart computing con 10 CPU y una velocidad de 0.00167 solicitudes/s\n",
      "Solicitudes atendidas:  [2.8917e+04 2.6440e+04 2.3802e+04 2.0227e+04 1.5994e+04 1.1765e+04\n",
      " 7.7440e+03 4.6490e+03 2.4010e+03 1.1290e+03 4.5000e+02 1.7100e+02\n",
      " 6.2000e+01 1.9000e+01 6.0000e+00]\n",
      "Tiempos de ocupacion de servidores:  [4.80814756e+01 4.43904626e+01 3.94421775e+01 3.34614236e+01\n",
      " 2.69380140e+01 1.95297441e+01 1.29869741e+01 7.63664260e+00\n",
      " 4.13286274e+00 1.93851615e+00 7.40923587e-01 2.95018338e-01\n",
      " 1.35990717e-01 2.51758228e-02 6.66580164e-03]\n",
      "Tiempos libres de servidores:  [11.91852441 15.60953739 20.55782249 26.53857643 33.061986   40.47025589\n",
      " 47.01302589 52.3633574  55.86713726 58.06148385 59.25907641 59.70498166\n",
      " 59.86400928 59.97482418 59.9933342 ]\n",
      "Tiempo de solicitudes en cola:  0.00058\n",
      "Promedio de solicitudes en cola: 0.0\n",
      "Tiempo de salida de la ultima solicitud atendida:  inf\n"
     ]
    }
   ],
   "source": [
    "### Variables constantes para la simulacion\n",
    "solicitudes_max = 2400\n",
    "duracionSimulacion = 60\n",
    "speed = 1/(10*60)\n",
    "cpus = 15\n",
    "\n",
    "### Procesamiento de cada simulacion\n",
    "print(\"Simulacion para Ants smart computing con 10 CPU y una velocidad de\", round(speed, 5), \"solicitudes/s\")\n",
    "simular(duracionSimulacion,solicitudes_max, speed, cpus)"
   ]
  },
  {
   "cell_type": "markdown",
   "metadata": {},
   "source": [
    "## Task 3 - Simulacion con 6000 solicitudes por minuto"
   ]
  },
  {
   "cell_type": "markdown",
   "metadata": {},
   "source": [
    "### Simulacion - 6000 solicitudes por minuto - Gorilla Megacomputing"
   ]
  },
  {
   "cell_type": "code",
   "execution_count": 31,
   "metadata": {},
   "outputs": [
    {
     "name": "stdout",
     "output_type": "stream",
     "text": [
      "Simulacion para Gorilla Megacomputing con 1 CPU y una velocidad de 0.00017 solicitudes/s\n",
      "Solicitudes atendidas:  [360060.]\n",
      "Tiempos de ocupacion de servidores:  [59.87849867]\n",
      "Tiempos libres de servidores:  [0.12150133]\n",
      "Tiempo de solicitudes en cola:  14020.08068\n",
      "Promedio de solicitudes en cola: 0.03894\n",
      "Tiempo de salida de la ultima solicitud atendida:  60.00018481\n"
     ]
    }
   ],
   "source": [
    "### Variables constantes para la simulacion\n",
    "solicitudes_max = 6000\n",
    "duracionSimulacion = 60\n",
    "speed = 1/(100*60)\n",
    "cpus = 1\n",
    "\n",
    "### Procesamiento de cada simulacion\n",
    "print(\"Simulacion para Gorilla Megacomputing con 1 CPU y una velocidad de\", round(speed, 5), \"solicitudes/s\")\n",
    "simular(duracionSimulacion,solicitudes_max, speed, cpus)\n"
   ]
  },
  {
   "cell_type": "markdown",
   "metadata": {},
   "source": [
    "### Simulacion - 6000 solicitudes por minuto - Ants smart computing"
   ]
  },
  {
   "cell_type": "code",
   "execution_count": 35,
   "metadata": {
    "scrolled": true
   },
   "outputs": [
    {
     "name": "stdout",
     "output_type": "stream",
     "text": [
      "Simulacion para Ants smart computing con 10 CPU y una velocidad de 0.00167 solicitudes/s\n",
      "Solicitudes atendidas:  [36081. 36167. 36245. 35778. 35816. 36027. 36081. 35826. 35802. 36179.]\n",
      "Tiempos de ocupacion de servidores:  [59.98109641 59.97180608 59.972499   59.9666373  59.95565571 59.95514574\n",
      " 59.95060128 59.93156736 59.91387123 59.91538105]\n",
      "Tiempos libres de servidores:  [0.01890359 0.02819392 0.027501   0.0333627  0.04434429 0.04485426\n",
      " 0.04939872 0.06843264 0.08612877 0.08461895]\n",
      "Tiempo de solicitudes en cola:  23807.90352\n",
      "Promedio de solicitudes en cola: 0.06613\n",
      "Tiempo de salida de la ultima solicitud atendida:  60.00063864\n"
     ]
    }
   ],
   "source": [
    "### Variables constantes para la simulacion\n",
    "solicitudes_max = 6000\n",
    "duracionSimulacion = 60\n",
    "speed = 1/(10*60)\n",
    "cpus = 10\n",
    "\n",
    "### Procesamiento de cada simulacion\n",
    "print(\"Simulacion para Ants smart computing con 10 CPU y una velocidad de\", round(speed, 5), \"solicitudes/s\")\n",
    "simular(duracionSimulacion,solicitudes_max, speed, cpus)\n"
   ]
  },
  {
   "cell_type": "markdown",
   "metadata": {},
   "source": [
    "## Task 4 - Determinacion de numero de servidores para no tener cola con Ants con 6000 solicitudes por minuto"
   ]
  },
  {
   "cell_type": "markdown",
   "metadata": {},
   "source": [
    "### Simulacion - 6000 solicitudes por minuto - Ants smart computing"
   ]
  },
  {
   "cell_type": "code",
   "execution_count": 37,
   "metadata": {},
   "outputs": [
    {
     "name": "stdout",
     "output_type": "stream",
     "text": [
      "Simulacion para Ants smart computing con 10 CPU y una velocidad de 0.00167 solicitudes/s\n",
      "Solicitudes atendidas:  [3.2940e+04 3.2410e+04 3.1745e+04 3.0897e+04 2.9788e+04 2.8480e+04\n",
      " 2.7248e+04 2.5314e+04 2.3089e+04 2.1020e+04 1.8541e+04 1.5656e+04\n",
      " 1.2799e+04 9.9750e+03 7.4440e+03 5.2390e+03 3.4850e+03 2.1310e+03\n",
      " 1.2610e+03 6.8400e+02 3.3100e+02 1.6500e+02 8.7000e+01 4.2000e+01\n",
      " 1.0000e+01]\n",
      "Tiempos de ocupacion de servidores:  [5.45109307e+01 5.36059176e+01 5.25215423e+01 5.11979420e+01\n",
      " 4.94982572e+01 4.77764591e+01 4.52358128e+01 4.24636803e+01\n",
      " 3.90923720e+01 3.54171098e+01 3.08277195e+01 2.62767413e+01\n",
      " 2.13849459e+01 1.67686187e+01 1.26028362e+01 8.72890922e+00\n",
      " 5.76869787e+00 3.62871034e+00 2.06098072e+00 1.20738246e+00\n",
      " 5.08863349e-01 2.65755751e-01 1.47980534e-01 5.77510270e-02\n",
      " 1.30350918e-02]\n",
      "Tiempos libres de servidores:  [ 5.48906929  6.39408244  7.47845767  8.80205802 10.50174278 12.22354085\n",
      " 14.76418721 17.53631975 20.90762801 24.58289016 29.17228045 33.72325866\n",
      " 38.61505415 43.23138134 47.39716382 51.27109078 54.23130213 56.37128966\n",
      " 57.93901928 58.79261754 59.49113665 59.73424425 59.85201947 59.94224897\n",
      " 59.98696491]\n",
      "Tiempo de solicitudes en cola:  0.00286\n",
      "Promedio de solicitudes en cola: 0.0\n",
      "Tiempo de salida de la ultima solicitud atendida:  inf\n"
     ]
    }
   ],
   "source": [
    "### Variables constantes para la simulacion\n",
    "solicitudes_max = 6000\n",
    "duracionSimulacion = 60\n",
    "speed = 1/(10*60)\n",
    "cpus = 25\n",
    "\n",
    "### Procesamiento de cada simulacion\n",
    "print(\"Simulacion para Ants smart computing con 10 CPU y una velocidad de\", round(speed, 5), \"solicitudes/s\")\n",
    "simular(duracionSimulacion,solicitudes_max, speed, cpus)"
   ]
  },
  {
   "cell_type": "markdown",
   "metadata": {},
   "source": [
    "## Task 5 - Recomendacion a la junta directiva"
   ]
  },
  {
   "cell_type": "markdown",
   "metadata": {},
   "source": [
    "Dado que se observa una mejora clara en el tiempo de espera para las solicitudes hechas, se recomienda alquilar 15 servidores para un numero de solicitudes de 2400, y de alquilar 30 servidores para 6000 solicitudes, ya que aunque alquilar más servidores podría reducir aún más el tiempo de espera, no se estaran utilizando todos cuando no se tenga una cantidad de solicitudes muy elevada, por lo cual sería un desperdicio del presupuesto. Es preferible tener menos servidores, pero que todos se estén aprovechando durante un flujo normal de solicitudes realizada, tomando como línea base 2400 y límite superior valores cercanos a 6000. Por lo tanto la cantidad de servidores que se recomienda alquilar se encuentra en un rango entre 15 y 30 servidores."
   ]
  }
 ],
 "metadata": {
  "kernelspec": {
   "display_name": "Python 3",
   "language": "python",
   "name": "python3"
  },
  "language_info": {
   "codemirror_mode": {
    "name": "ipython",
    "version": 3
   },
   "file_extension": ".py",
   "mimetype": "text/x-python",
   "name": "python",
   "nbconvert_exporter": "python",
   "pygments_lexer": "ipython3",
   "version": "3.7.5"
  }
 },
 "nbformat": 4,
 "nbformat_minor": 4
}
