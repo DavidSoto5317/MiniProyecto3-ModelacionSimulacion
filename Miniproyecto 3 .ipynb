{
 "cells": [
  {
   "cell_type": "markdown",
   "metadata": {},
   "source": [
    "# Miniproyecto 3"
   ]
  },
  {
   "cell_type": "markdown",
   "metadata": {},
   "source": [
    "### David Soto 17551 & Miguel Valle 17102"
   ]
  },
  {
   "cell_type": "code",
   "execution_count": 1,
   "metadata": {},
   "outputs": [],
   "source": [
    "### Librerias a utilizar para la simulacion\n",
    "import numpy as np\n",
    "import random"
   ]
  },
  {
   "cell_type": "markdown",
   "metadata": {},
   "source": [
    "### Función generadora de tiempos de estadía/salida"
   ]
  },
  {
   "cell_type": "code",
   "execution_count": 2,
   "metadata": {},
   "outputs": [],
   "source": [
    "# Funcion para calcular el proximo tiempo de llegada\n",
    "def tiempoProximaSalida(t, lamda_max, homo):\n",
    "    if homo:\n",
    "        return t - ((1/lamda_max)*np.log(random.random()))\n",
    "    else:\n",
    "        while True:\n",
    "            u = random.random()\n",
    "            t = t - ((1/lamda_max)*np.log(u))\n",
    "            u = random.random()\n",
    "            if u <= np.random.poisson(t)/lamda_max:\n",
    "                return t"
   ]
  },
  {
   "cell_type": "markdown",
   "metadata": {},
   "source": [
    "### Funcion simuladora de eventos"
   ]
  },
  {
   "cell_type": "code",
   "execution_count": 3,
   "metadata": {},
   "outputs": [],
   "source": [
    "### Funcion que determina cómo procede el evento segun el tiempo dela simulacion\n",
    "def evento(t, n, Na, C, busyTime, A, D, NT, ta, td, ids, lamda_max, no_cpus, speed):\n",
    "    ### Si la proxima peticion es el ultimo registrado en el sistema, entonces hay un servidor libre que lo puede atender\n",
    "    if ta == min(ta,min(td)): \n",
    "        t = ta\n",
    "        Na = Na + 1\n",
    "        ta = tiempoProximaSalida(t, lamda_max, True)\n",
    "        A[Na] = t\n",
    "        ### Si la cantidad de peticiones en el sistema es menor a la cantidad de cpus\n",
    "        ### es porque la proxima peticion puede ser procesada por un servidor\n",
    "        if n < no_cpus:\n",
    "            for i in range(no_cpus):\n",
    "                if ids[i] == 0:\n",
    "                    ids[i] = Na\n",
    "                    NT = np.append(NT, t - A[Na])\n",
    "                    td[i] = t - ((1/lamda_max)*np.log(random.random()))\n",
    "                    busyTime[i] = busyTime[i] + td[i] - t\n",
    "                    break\n",
    "        n = n + 1\n",
    "    else:\n",
    "        ### Esto ocurre en caso de que no haya un servidor desocupado al momento de llegar\n",
    "        ti = np.argmin(td)\n",
    "        t = td[ti]\n",
    "        C[ti] = C[ti] + 1\n",
    "        D[ids[ti]] = t\n",
    "        ### En caso la cantidad de clientes sea menor o igual a la cantidad de servidores\n",
    "        ### Se libera un CPU\n",
    "        if n <= no_cpus:\n",
    "            ### Se elimina a la ultima peticion del ID register\n",
    "            ids[ti] = 0\n",
    "            td[ti] = np.infty\n",
    "        ### Si todavia hay mas clientes por atender\n",
    "        else: \n",
    "            indice = max(ids) + 1\n",
    "            ### Se actualiza el indice\n",
    "            ids[ti] = indice\n",
    "            NT = np.append(NT , t - A[indice])\n",
    "            td[ti] = t - ((1/lamda_max)*np.log(random.random()))\n",
    "            busyTime[ti] = busyTime[ti] + td[ti] - t\n",
    "        n = n - 1\n",
    "        \n",
    "    ### Retornamos las variables para actualizacion y seguir el proceso de la simulacion \n",
    "    return t, n, Na, C, busyTime, A, D, NT, ta, td, ids"
   ]
  },
  {
   "cell_type": "markdown",
   "metadata": {},
   "source": [
    "### Funcion simuladora del procesamiento de peticiones"
   ]
  },
  {
   "cell_type": "code",
   "execution_count": 4,
   "metadata": {},
   "outputs": [],
   "source": [
    "### Funcion para realizar la simulacion\n",
    "def simular(duracion_simulacion, lamda_max, speed,no_cpus):\n",
    "    ### Variable de tiempo de simulacion\n",
    "    t = 0\n",
    "    \n",
    "    # Variables contadores\n",
    "    Na = 0\n",
    "    C = np.zeros(no_cpus) \n",
    "    busyTime = np.zeros(no_cpus)\n",
    "    \n",
    "    ### Variable estado del sistema\n",
    "    n = 0\n",
    "\n",
    "    ### Variables para el control de datos\n",
    "    A = {}\n",
    "    D = {}\n",
    "    NT = []\n",
    "    \n",
    "    # Variables de eventos de tiempos de llegada y salida\n",
    "    ta = tiempoProximaSalida(t,lamda_max, True)\n",
    "    td = np.zeros(no_cpus) + np.infty\n",
    "    ids = np.zeros(no_cpus)\n",
    "    \n",
    "    # Se realiza la simulacion hasta que se llegue al tiempo final de esta\n",
    "    while t < duracion_simulacion:\n",
    "        ### Realizamos la simulacion de un evento al timepo t\n",
    "        t, n, Na, C, busyTime, A, D, NT, ta, td, ids = evento(t, n, Na, C, busyTime, A, D, NT, ta, td, ids, lamda_max, no_cpus, speed)\n",
    "        \n",
    "    ### Obtenemos el tiempo de salida de la ultima solicitud atendida\n",
    "    copiaArreglo = td\n",
    "    tiemposSalida = []\n",
    "    for i in copiaArreglo:\n",
    "        if not np.isinf(i):\n",
    "            tiemposSalida.append(i)\n",
    "\n",
    "    ### Obtenemos los segundos promedio por solicitud\n",
    "    copiaArreglo = NT\n",
    "    segundoSolicitud = []\n",
    "    cantidadSolicitudes = 0\n",
    "    for i in copiaArreglo:\n",
    "        if i != 0:\n",
    "            segundoSolicitud.append(1/i)\n",
    "        cantidadSolicitudes = cantidadSolicitudes + 1\n",
    "    \n",
    "\n",
    "    ### Mostramos los resultados de las variables de la somulacion\n",
    "    print(\"Solicitudes atendidas: \", C)\n",
    "    print(\"Tiempos ocupado de servidores: \", busyTime)\n",
    "    print(\"Tiempos desocupado o IDLE de servidores: \", np.maximum(np.ones(no_cpus)*duracion_simulacion - busyTime,0))\n",
    "    print(\"Tiempo total de solicitudes en cola: \", np.round(sum(NT),5))\n",
    "    print(\"Promedio de solicitudes por segunda en cola:\", np.round(np.mean(NT),5))\n",
    "    print(\"Promedio de segundos por solicitud en cola:\", np.round(sum(segundoSolicitud)/cantidadSolicitudes,5))\n",
    "    print(\"Tiempo de salida de la ultima solicitud atendida: \", np.round(max(tiemposSalida),8))"
   ]
  },
  {
   "cell_type": "markdown",
   "metadata": {},
   "source": [
    "## Task 1 - Simulacion con 2400 solicitudes por minuto"
   ]
  },
  {
   "cell_type": "markdown",
   "metadata": {},
   "source": [
    "### Simulacion - 2400 solicitudes por minuto -  Gorilla Megacomputing"
   ]
  },
  {
   "cell_type": "code",
   "execution_count": 5,
   "metadata": {},
   "outputs": [
    {
     "name": "stdout",
     "output_type": "stream",
     "text": [
      "Simulacion para Gorilla Megacomputing con 1 CPU y una velocidad de 0.00017 solicitudes/s\n",
      "Solicitudes atendidas:  [143918.]\n",
      "Tiempos ocupado de servidores:  [59.94026455]\n",
      "Tiempos desocupado o IDLE de servidores:  [0.05973545]\n",
      "Tiempo total de solicitudes en cola:  15863.22223\n",
      "Promedio de solicitudes por segunda en cola: 0.11022\n",
      "Promedio de segundos por solicitud en cola: 54.69334\n",
      "Tiempo de salida de la ultima solicitud atendida:  60.00028296\n"
     ]
    }
   ],
   "source": [
    "### Variables constantes para la simulacion\n",
    "solicitudes_max = 2400\n",
    "duracionSimulacion = 60\n",
    "speed = 1/(100*60)\n",
    "cpus = 1\n",
    "\n",
    "### Procesamiento de cada simulacion\n",
    "print(\"Simulacion para Gorilla Megacomputing con 1 CPU y una velocidad de\", round(speed, 5), \"solicitudes/s\")\n",
    "simular(duracionSimulacion,solicitudes_max, speed, cpus)\n"
   ]
  },
  {
   "cell_type": "markdown",
   "metadata": {},
   "source": [
    "### Simulacion - 2400 solicitudes por minuto - Ants smart computing"
   ]
  },
  {
   "cell_type": "code",
   "execution_count": 6,
   "metadata": {
    "scrolled": true
   },
   "outputs": [
    {
     "name": "stdout",
     "output_type": "stream",
     "text": [
      "Simulacion para Ants smart computing con 10 CPU y una velocidad de 0.00167 solicitudes/s\n",
      "Solicitudes atendidas:  [7.2127e+04 4.3081e+04 1.9636e+04 6.7160e+03 1.7540e+03 3.6100e+02\n",
      " 6.3000e+01 5.0000e+00 1.0000e+00 0.0000e+00]\n",
      "Tiempos ocupado de servidores:  [2.99268714e+01 1.79713045e+01 8.16795051e+00 2.81015470e+00\n",
      " 7.25127103e-01 1.51632744e-01 2.98618998e-02 1.96342784e-03\n",
      " 1.08215352e-03 0.00000000e+00]\n",
      "Tiempos desocupado o IDLE de servidores:  [30.07312861 42.02869546 51.83204949 57.1898453  59.2748729  59.84836726\n",
      " 59.9701381  59.99803657 59.99891785 60.        ]\n",
      "Tiempo total de solicitudes en cola:  0.0\n",
      "Promedio de solicitudes por segunda en cola: 0.0\n",
      "Promedio de segundos por solicitud en cola: 0.0\n",
      "Tiempo de salida de la ultima solicitud atendida:  60.00092545\n"
     ]
    }
   ],
   "source": [
    "### Variables constantes para la simulacion\n",
    "solicitudes_max = 2400\n",
    "duracionSimulacion = 60\n",
    "speed = 1/(10*60)\n",
    "cpus = 10\n",
    "\n",
    "### Procesamiento de cada simulacion\n",
    "print(\"Simulacion para Ants smart computing con 10 CPU y una velocidad de\", round(speed, 5), \"solicitudes/s\")\n",
    "simular(duracionSimulacion,solicitudes_max, speed, cpus)\n"
   ]
  },
  {
   "cell_type": "markdown",
   "metadata": {},
   "source": [
    "## Task 2 - Determinacion de numero de servidores para no tener cola con Ants con 2400 solicitudes por minuto"
   ]
  },
  {
   "cell_type": "markdown",
   "metadata": {},
   "source": [
    "### Simulacion - 2400 solicitudes por minuto - Ants smart computing"
   ]
  },
  {
   "cell_type": "code",
   "execution_count": 8,
   "metadata": {},
   "outputs": [
    {
     "name": "stdout",
     "output_type": "stream",
     "text": [
      "Simulacion para Ants smart computing con 10 CPU y una velocidad de 0.00167 solicitudes/s\n",
      "Solicitudes atendidas:  [7.1702e+04 4.3109e+04 1.9967e+04 6.8150e+03 1.7660e+03 3.7700e+02\n",
      " 6.3000e+01 9.0000e+00 1.0000e+00 0.0000e+00 0.0000e+00 0.0000e+00\n",
      " 0.0000e+00 0.0000e+00 0.0000e+00]\n",
      "Tiempos ocupado de servidores:  [3.00380965e+01 1.80597613e+01 8.34791988e+00 2.84562611e+00\n",
      " 7.36129184e-01 1.58007001e-01 2.78199361e-02 4.93053320e-03\n",
      " 7.09323321e-05 0.00000000e+00 0.00000000e+00 0.00000000e+00\n",
      " 0.00000000e+00 0.00000000e+00 0.00000000e+00]\n",
      "Tiempos desocupado o IDLE de servidores:  [29.96190346 41.94023869 51.65208012 57.15437389 59.26387082 59.841993\n",
      " 59.97218006 59.99506947 59.99992907 60.         60.         60.\n",
      " 60.         60.         60.        ]\n",
      "Tiempo total de solicitudes en cola:  0.0\n",
      "Promedio de solicitudes por segunda en cola: 0.0\n",
      "Promedio de segundos por solicitud en cola: 0.0\n",
      "Tiempo de salida de la ultima solicitud atendida:  60.00058492\n"
     ]
    }
   ],
   "source": [
    "### Variables constantes para la simulacion\n",
    "solicitudes_max = 2400\n",
    "duracionSimulacion = 60\n",
    "speed = 1/(10*60)\n",
    "cpus = 15\n",
    "\n",
    "### Procesamiento de cada simulacion\n",
    "print(\"Simulacion para Ants smart computing con 10 CPU y una velocidad de\", round(speed, 5), \"solicitudes/s\")\n",
    "simular(duracionSimulacion,solicitudes_max, speed, cpus)"
   ]
  },
  {
   "cell_type": "markdown",
   "metadata": {},
   "source": [
    "## Task 3 - Simulacion con 6000 solicitudes por minuto"
   ]
  },
  {
   "cell_type": "markdown",
   "metadata": {},
   "source": [
    "### Simulacion - 6000 solicitudes por minuto - Gorilla Megacomputing"
   ]
  },
  {
   "cell_type": "code",
   "execution_count": 9,
   "metadata": {},
   "outputs": [
    {
     "name": "stdout",
     "output_type": "stream",
     "text": [
      "Simulacion para Gorilla Megacomputing con 1 CPU y una velocidad de 0.00017 solicitudes/s\n",
      "Solicitudes atendidas:  [359270.]\n",
      "Tiempos ocupado de servidores:  [59.76352667]\n",
      "Tiempos desocupado o IDLE de servidores:  [0.23647333]\n",
      "Tiempo total de solicitudes en cola:  12593.11293\n",
      "Promedio de solicitudes por segunda en cola: 0.03505\n",
      "Promedio de segundos por solicitud en cola: 294.09999\n",
      "Tiempo de salida de la ultima solicitud atendida:  60.00018072\n"
     ]
    }
   ],
   "source": [
    "### Variables constantes para la simulacion\n",
    "solicitudes_max = 6000\n",
    "duracionSimulacion = 60\n",
    "speed = 1/(100*60)\n",
    "cpus = 1\n",
    "\n",
    "### Procesamiento de cada simulacion\n",
    "print(\"Simulacion para Gorilla Megacomputing con 1 CPU y una velocidad de\", round(speed, 5), \"solicitudes/s\")\n",
    "simular(duracionSimulacion,solicitudes_max, speed, cpus)\n"
   ]
  },
  {
   "cell_type": "markdown",
   "metadata": {},
   "source": [
    "### Simulacion - 6000 solicitudes por minuto - Ants smart computing"
   ]
  },
  {
   "cell_type": "code",
   "execution_count": 10,
   "metadata": {
    "scrolled": true
   },
   "outputs": [
    {
     "name": "stdout",
     "output_type": "stream",
     "text": [
      "Simulacion para Ants smart computing con 10 CPU y una velocidad de 0.00167 solicitudes/s\n",
      "Solicitudes atendidas:  [1.79905e+05 1.07950e+05 4.97590e+04 1.72110e+04 4.47400e+03 9.21000e+02\n",
      " 1.48000e+02 2.10000e+01 2.00000e+00 0.00000e+00]\n",
      "Tiempos ocupado de servidores:  [3.00160521e+01 1.80501638e+01 8.34809200e+00 2.89112194e+00\n",
      " 7.49681033e-01 1.50164439e-01 2.54940979e-02 3.29356908e-03\n",
      " 8.75826152e-05 0.00000000e+00]\n",
      "Tiempos desocupado o IDLE de servidores:  [29.98394788 41.94983618 51.651908   57.10887806 59.25031897 59.84983556\n",
      " 59.9745059  59.99670643 59.99991242 60.        ]\n",
      "Tiempo total de solicitudes en cola:  0.0\n",
      "Promedio de solicitudes por segunda en cola: 0.0\n",
      "Promedio de segundos por solicitud en cola: 0.0\n",
      "Tiempo de salida de la ultima solicitud atendida:  60.00029036\n"
     ]
    }
   ],
   "source": [
    "### Variables constantes para la simulacion\n",
    "solicitudes_max = 6000\n",
    "duracionSimulacion = 60\n",
    "speed = 1/(10*60)\n",
    "cpus = 10\n",
    "\n",
    "### Procesamiento de cada simulacion\n",
    "print(\"Simulacion para Ants smart computing con 10 CPU y una velocidad de\", round(speed, 5), \"solicitudes/s\")\n",
    "simular(duracionSimulacion,solicitudes_max, speed, cpus)\n"
   ]
  },
  {
   "cell_type": "markdown",
   "metadata": {},
   "source": [
    "## Task 4 - Determinacion de numero de servidores para no tener cola con Ants con 6000 solicitudes por minuto"
   ]
  },
  {
   "cell_type": "markdown",
   "metadata": {},
   "source": [
    "### Simulacion - 6000 solicitudes por minuto - Ants smart computing"
   ]
  },
  {
   "cell_type": "code",
   "execution_count": 11,
   "metadata": {},
   "outputs": [
    {
     "name": "stdout",
     "output_type": "stream",
     "text": [
      "Simulacion para Ants smart computing con 10 CPU y una velocidad de 0.00167 solicitudes/s\n",
      "Solicitudes atendidas:  [1.79717e+05 1.07856e+05 4.91590e+04 1.68730e+04 4.37500e+03 9.12000e+02\n",
      " 1.57000e+02 2.80000e+01 1.00000e+00 0.00000e+00 0.00000e+00 0.00000e+00\n",
      " 0.00000e+00 0.00000e+00 0.00000e+00 0.00000e+00 0.00000e+00 0.00000e+00\n",
      " 0.00000e+00 0.00000e+00 0.00000e+00 0.00000e+00 0.00000e+00 0.00000e+00\n",
      " 0.00000e+00 0.00000e+00 0.00000e+00 0.00000e+00 0.00000e+00 0.00000e+00]\n",
      "Tiempos ocupado de servidores:  [2.99466444e+01 1.79392650e+01 8.22535139e+00 2.81115318e+00\n",
      " 7.20692020e-01 1.57193417e-01 2.84998396e-02 4.25854813e-03\n",
      " 1.78034469e-04 0.00000000e+00 0.00000000e+00 0.00000000e+00\n",
      " 0.00000000e+00 0.00000000e+00 0.00000000e+00 0.00000000e+00\n",
      " 0.00000000e+00 0.00000000e+00 0.00000000e+00 0.00000000e+00\n",
      " 0.00000000e+00 0.00000000e+00 0.00000000e+00 0.00000000e+00\n",
      " 0.00000000e+00 0.00000000e+00 0.00000000e+00 0.00000000e+00\n",
      " 0.00000000e+00 0.00000000e+00]\n",
      "Tiempos desocupado o IDLE de servidores:  [30.05335558 42.06073502 51.77464861 57.18884682 59.27930798 59.84280658\n",
      " 59.97150016 59.99574145 59.99982197 60.         60.         60.\n",
      " 60.         60.         60.         60.         60.         60.\n",
      " 60.         60.         60.         60.         60.         60.\n",
      " 60.         60.         60.         60.         60.         60.        ]\n",
      "Tiempo total de solicitudes en cola:  0.0\n",
      "Promedio de solicitudes por segunda en cola: 0.0\n",
      "Promedio de segundos por solicitud en cola: 0.0\n",
      "Tiempo de salida de la ultima solicitud atendida:  60.00037469\n"
     ]
    }
   ],
   "source": [
    "### Variables constantes para la simulacion\n",
    "solicitudes_max = 6000\n",
    "duracionSimulacion = 60\n",
    "speed = 1/(10*60)\n",
    "cpus = 30\n",
    "\n",
    "### Procesamiento de cada simulacion\n",
    "print(\"Simulacion para Ants smart computing con 10 CPU y una velocidad de\", round(speed, 5), \"solicitudes/s\")\n",
    "simular(duracionSimulacion,solicitudes_max, speed, cpus)"
   ]
  },
  {
   "cell_type": "markdown",
   "metadata": {},
   "source": [
    "## Task 5 - Recomendacion a la junta directiva"
   ]
  },
  {
   "cell_type": "markdown",
   "metadata": {},
   "source": [
    "Dado que se observa una mejora clara en el tiempo de espera para las solicitudes hechas, se recomienda alquilar 15 servidores para un numero de solicitudes de 2400, y de alquilar 30 servidores para 6000 solicitudes, ya que aunque alquilar más servidores podría reducir aún más el tiempo de espera, no se estaran utilizando todos cuando no se tenga una cantidad de solicitudes muy elevada, por lo cual sería un desperdicio del presupuesto. Es preferible tener menos servidores, pero que todos se estén aprovechando durante un flujo normal de solicitudes realizada, tomando como línea base 2400 y límite superior valores cercanos a 6000. Por lo tanto la cantidad de servidores que se recomienda alquilar se encuentra en un rango entre 15 y 30 servidores."
   ]
  }
 ],
 "metadata": {
  "kernelspec": {
   "display_name": "Python 3",
   "language": "python",
   "name": "python3"
  },
  "language_info": {
   "codemirror_mode": {
    "name": "ipython",
    "version": 3
   },
   "file_extension": ".py",
   "mimetype": "text/x-python",
   "name": "python",
   "nbconvert_exporter": "python",
   "pygments_lexer": "ipython3",
   "version": "3.8.1"
  }
 },
 "nbformat": 4,
 "nbformat_minor": 4
}
