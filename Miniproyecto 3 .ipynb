{
 "cells": [
  {
   "cell_type": "markdown",
   "metadata": {},
   "source": [
    "# Miniproyecto 3"
   ]
  },
  {
   "cell_type": "markdown",
   "metadata": {},
   "source": [
    "### David Soto 17551 & Miguel Valle 17102"
   ]
  },
  {
   "cell_type": "code",
   "execution_count": 1,
   "metadata": {},
   "outputs": [],
   "source": [
    "### Librerias a utilizar para la simulacion\n",
    "import numpy as np\n",
    "import random"
   ]
  },
  {
   "cell_type": "markdown",
   "metadata": {},
   "source": [
    "### Función generadora de tiempos de estadía/salida"
   ]
  },
  {
   "cell_type": "code",
   "execution_count": 2,
   "metadata": {},
   "outputs": [],
   "source": [
    "# Funcion para calcular el proximo tiempo de llegada\n",
    "def tiempoProximaSalida(t, lamda_max, homo):\n",
    "    if homo:\n",
    "        return t - ((1/lamda_max)*np.log(random.random()))\n",
    "    else:\n",
    "        while True:\n",
    "            u = random.random()\n",
    "            t = t - ((1/lamda_max)*np.log(u))\n",
    "            u = random.random()\n",
    "            if u <= np.random.poisson(t)/lamda_max:\n",
    "                return t"
   ]
  },
  {
   "cell_type": "markdown",
   "metadata": {},
   "source": [
    "### Funcion simuladora de eventos"
   ]
  },
  {
   "cell_type": "code",
   "execution_count": 3,
   "metadata": {},
   "outputs": [],
   "source": [
    "### Funcion que determina cómo procede el evento segun el tiempo dela simulacion\n",
    "def evento(t, n, Na, C, busyTime, A, D, NT, ta, td, ids, lamda_max, no_cpus, speed):\n",
    "    ### Si la proxima peticion es el ultimo registrado en el sistema, entonces hay un servidor libre que lo puede atender\n",
    "    if ta == min(ta,min(td)): \n",
    "        t = ta\n",
    "        Na = Na + 1\n",
    "        ta = tiempoProximaSalida(t, lamda_max, True)\n",
    "        A[Na] = t\n",
    "        ### Si la cantidad de peticiones en el sistema es menor a la cantidad de cpus\n",
    "        ### es porque la proxima peticion puede ser procesada por un servidor\n",
    "        if n < no_cpus:\n",
    "            for i in range(no_cpus):\n",
    "                if ids[i] == 0:\n",
    "                    ids[i] = Na\n",
    "                    NT = np.append(NT, t - A[Na])\n",
    "                    td[i] = t + np.random.exponential(speed)\n",
    "                    busyTime[i] = busyTime[i] + td[i] - t\n",
    "                    break\n",
    "        n = n + 1\n",
    "    else:\n",
    "        ### Esto ocurre en caso de que no haya un servidor desocupado al momento de llegar\n",
    "        ti = np.argmin(td)\n",
    "        t = td[ti]\n",
    "        C[ti] = C[ti] + 1\n",
    "        D[ids[ti]] = t\n",
    "        ### En caso la cantidad de clientes sea menor o igual a la cantidad de servidores\n",
    "        ### Se libera un CPU\n",
    "        if n <= no_cpus:\n",
    "            ### Se elimina a la ultima peticion del ID register\n",
    "            ids[ti] = 0\n",
    "            td[ti] = np.infty\n",
    "        ### Si todavia hay mas clientes por atender\n",
    "        else: \n",
    "            indice = max(ids) + 1\n",
    "            ### Se actualiza el indice\n",
    "            ids[ti] = indice\n",
    "            NT = np.append(NT , t - A[indice])\n",
    "            td[ti] = t + np.random.exponential(speed)\n",
    "            busyTime[ti] = busyTime[ti] + td[ti] - t\n",
    "        n = n - 1\n",
    "        \n",
    "    ### Retornamos las variables para actualizacion y seguir el proceso de la simulacion \n",
    "    return t, n, Na, C, busyTime, A, D, NT, ta, td, ids"
   ]
  },
  {
   "cell_type": "markdown",
   "metadata": {},
   "source": [
    "### Funcion simuladora del procesamiento de peticiones"
   ]
  },
  {
   "cell_type": "code",
   "execution_count": 4,
   "metadata": {},
   "outputs": [],
   "source": [
    "### Funcion para realizar la simulacion\n",
    "def simular(duracion_simulacion, lamda_max, speed,no_cpus):\n",
    "    ### Variable de tiempo de simulacion\n",
    "    t = 0\n",
    "    \n",
    "    # Variables contadores\n",
    "    Na = 0\n",
    "    C = np.zeros(no_cpus) \n",
    "    busyTime = np.zeros(no_cpus)\n",
    "    \n",
    "    ### Variable estado del sistema\n",
    "    n = 0\n",
    "\n",
    "    ### Variables para el control de datos\n",
    "    A = {}\n",
    "    D = {}\n",
    "    NT = []\n",
    "    \n",
    "    # Variables de eventos de tiempos de llegada y salida\n",
    "    ta = tiempoProximaSalida(t,lamda_max, True)\n",
    "    td = np.zeros(no_cpus) + np.infty\n",
    "    ids = np.zeros(no_cpus)\n",
    "    \n",
    "    # Se realiza la simulacion hasta que se llegue al tiempo final de esta\n",
    "    while t < duracion_simulacion:\n",
    "        ### Realizamos la simulacion de un evento al timepo t\n",
    "        t, n, Na, C, busyTime, A, D, NT, ta, td, ids = evento(t, n, Na, C, busyTime, A, D, NT, ta, td, ids, lamda_max, no_cpus, speed)\n",
    "        \n",
    "    ### Obtenemos el tiempo de salida de la ultima solicitud atendida\n",
    "    copiaArreglo = td\n",
    "    tiemposSalida = []\n",
    "    for i in copiaArreglo:\n",
    "        if not np.isinf(i):\n",
    "            tiemposSalida.append(i)\n",
    "\n",
    "    ### Mostramos los resultados de las variables de la somulacion\n",
    "    print(\"Solicitudes atendidas: \", C)\n",
    "    print(\"Tiempos de ocupacion de servidores: \", busyTime)\n",
    "    print(\"Tiempos libres de servidores: \", np.maximum(np.ones(no_cpus)*duracion_simulacion - busyTime,0))\n",
    "    print(\"Tiempo de solicitudes en cola: \", np.round(sum(NT),5))\n",
    "    print(\"Promedio de solicitudes en cola:\", np.round(np.mean(NT),5))\n",
    "    print(\"Tiempo de salida de la ultima solicitud atendida: \", np.round(max(tiemposSalida),8))"
   ]
  },
  {
   "cell_type": "markdown",
   "metadata": {},
   "source": [
    "## Task 1 - Simulacion con 2400 solicitudes por minuto"
   ]
  },
  {
   "cell_type": "markdown",
   "metadata": {},
   "source": [
    "### Simulacion - 2400 solicitudes por minuto -  Gorilla Megacomputing"
   ]
  },
  {
   "cell_type": "code",
   "execution_count": 5,
   "metadata": {},
   "outputs": [
    {
     "name": "stdout",
     "output_type": "stream",
     "text": [
      "Simulacion para Gorilla Megacomputing con 1 CPU y una velocidad de 0.00017 solicitudes/s\n",
      "Solicitudes atendidas:  [143382.]\n",
      "Tiempos de ocupacion de servidores:  [23.93425487]\n",
      "Tiempos libres de servidores:  [36.06574513]\n",
      "Tiempo de solicitudes en cola:  15.55682\n",
      "Promedio de solicitudes en cola: 0.00011\n",
      "Tiempo de salida de la ultima solicitud atendida:  60.00126561\n"
     ]
    }
   ],
   "source": [
    "### Variables constantes para la simulacion\n",
    "solicitudes_max = 2400\n",
    "duracionSimulacion = 60\n",
    "speed = 1/(100*60)\n",
    "cpus = 1\n",
    "\n",
    "### Procesamiento de cada simulacion\n",
    "print(\"Simulacion para Gorilla Megacomputing con 1 CPU y una velocidad de\", round(speed, 5), \"solicitudes/s\")\n",
    "simular(duracionSimulacion,solicitudes_max, speed, cpus)\n"
   ]
  },
  {
   "cell_type": "markdown",
   "metadata": {},
   "source": [
    "### Simulacion - 2400 solicitudes por minuto - Ants smart computing"
   ]
  },
  {
   "cell_type": "code",
   "execution_count": 6,
   "metadata": {
    "scrolled": true
   },
   "outputs": [
    {
     "name": "stdout",
     "output_type": "stream",
     "text": [
      "Simulacion para Ants smart computing con 10 CPU y una velocidad de 0.00167 solicitudes/s\n",
      "Solicitudes atendidas:  [28764. 26913. 23885. 20198. 16158. 11822.  7951.  4599.  2397.  1199.]\n",
      "Tiempos de ocupacion de servidores:  [48.11684241 44.4509369  39.56258611 33.61179999 26.84056995 19.63608776\n",
      " 13.11151263  7.71126034  4.07053196  2.00881888]\n",
      "Tiempos libres de servidores:  [11.88315759 15.5490631  20.43741389 26.38820001 33.15943005 40.36391224\n",
      " 46.88848737 52.28873966 55.92946804 57.99118112]\n",
      "Tiempo de solicitudes en cola:  0.23868\n",
      "Promedio de solicitudes en cola: 0.0\n",
      "Tiempo de salida de la ultima solicitud atendida:  60.00172749\n"
     ]
    }
   ],
   "source": [
    "### Variables constantes para la simulacion\n",
    "solicitudes_max = 2400\n",
    "duracionSimulacion = 60\n",
    "speed = 1/(10*60)\n",
    "cpus = 10\n",
    "\n",
    "### Procesamiento de cada simulacion\n",
    "print(\"Simulacion para Ants smart computing con 10 CPU y una velocidad de\", round(speed, 5), \"solicitudes/s\")\n",
    "simular(duracionSimulacion,solicitudes_max, speed, cpus)\n"
   ]
  },
  {
   "cell_type": "markdown",
   "metadata": {},
   "source": [
    "## Task 2 - Determinacion de numero de servidores para no tener cola con Ants con 2400 solicitudes por minuto"
   ]
  },
  {
   "cell_type": "markdown",
   "metadata": {},
   "source": [
    "### Simulacion - 2400 solicitudes por minuto - Ants smart computing"
   ]
  },
  {
   "cell_type": "code",
   "execution_count": 7,
   "metadata": {},
   "outputs": [
    {
     "name": "stdout",
     "output_type": "stream",
     "text": [
      "Simulacion para Ants smart computing con 10 CPU y una velocidad de 0.00167 solicitudes/s\n",
      "Solicitudes atendidas:  [2.9063e+04 2.6512e+04 2.3658e+04 2.0074e+04 1.5879e+04 1.1699e+04\n",
      " 7.6630e+03 4.5490e+03 2.3700e+03 1.1340e+03 4.6000e+02 1.8000e+02\n",
      " 6.2000e+01 2.4000e+01 1.1000e+01]\n",
      "Tiempos de ocupacion de servidores:  [4.78375281e+01 4.41987114e+01 3.94448573e+01 3.33282141e+01\n",
      " 2.65220256e+01 1.94369722e+01 1.25761346e+01 7.50383279e+00\n",
      " 3.92878069e+00 1.80403428e+00 7.70793091e-01 2.80573658e-01\n",
      " 1.26497622e-01 3.40182364e-02 2.27523869e-02]\n",
      "Tiempos libres de servidores:  [12.16247194 15.80128856 20.55514272 26.67178594 33.47797444 40.56302784\n",
      " 47.42386538 52.49616721 56.07121931 58.19596572 59.22920691 59.71942634\n",
      " 59.87350238 59.96598176 59.97724761]\n",
      "Tiempo de solicitudes en cola:  0.00117\n",
      "Promedio de solicitudes en cola: 0.0\n",
      "Tiempo de salida de la ultima solicitud atendida:  60.00213755\n"
     ]
    }
   ],
   "source": [
    "### Variables constantes para la simulacion\n",
    "solicitudes_max = 2400\n",
    "duracionSimulacion = 60\n",
    "speed = 1/(10*60)\n",
    "cpus = 15\n",
    "\n",
    "### Procesamiento de cada simulacion\n",
    "print(\"Simulacion para Ants smart computing con 10 CPU y una velocidad de\", round(speed, 5), \"solicitudes/s\")\n",
    "simular(duracionSimulacion,solicitudes_max, speed, cpus)"
   ]
  },
  {
   "cell_type": "markdown",
   "metadata": {},
   "source": [
    "## Task 3 - Simulacion con 6000 solicitudes por minuto"
   ]
  },
  {
   "cell_type": "markdown",
   "metadata": {},
   "source": [
    "### Simulacion - 6000 solicitudes por minuto - Gorilla Megacomputing"
   ]
  },
  {
   "cell_type": "code",
   "execution_count": 8,
   "metadata": {},
   "outputs": [
    {
     "name": "stdout",
     "output_type": "stream",
     "text": [
      "Simulacion para Gorilla Megacomputing con 1 CPU y una velocidad de 0.00017 solicitudes/s\n",
      "Solicitudes atendidas:  [359607.]\n",
      "Tiempos de ocupacion de servidores:  [59.95529386]\n",
      "Tiempos libres de servidores:  [0.04470614]\n",
      "Tiempo de solicitudes en cola:  45629.41903\n",
      "Promedio de solicitudes en cola: 0.12689\n",
      "Tiempo de salida de la ultima solicitud atendida:  60.00011025\n"
     ]
    }
   ],
   "source": [
    "### Variables constantes para la simulacion\n",
    "solicitudes_max = 6000\n",
    "duracionSimulacion = 60\n",
    "speed = 1/(100*60)\n",
    "cpus = 1\n",
    "\n",
    "### Procesamiento de cada simulacion\n",
    "print(\"Simulacion para Gorilla Megacomputing con 1 CPU y una velocidad de\", round(speed, 5), \"solicitudes/s\")\n",
    "simular(duracionSimulacion,solicitudes_max, speed, cpus)\n"
   ]
  },
  {
   "cell_type": "markdown",
   "metadata": {},
   "source": [
    "### Simulacion - 6000 solicitudes por minuto - Ants smart computing"
   ]
  },
  {
   "cell_type": "code",
   "execution_count": 9,
   "metadata": {
    "scrolled": true
   },
   "outputs": [
    {
     "name": "stdout",
     "output_type": "stream",
     "text": [
      "Simulacion para Ants smart computing con 10 CPU y una velocidad de 0.00167 solicitudes/s\n",
      "Solicitudes atendidas:  [36138. 36274. 35776. 35830. 36065. 35942. 35626. 35637. 35802. 35627.]\n",
      "Tiempos de ocupacion de servidores:  [59.86085379 59.83483114 59.81928931 59.78533926 59.72881215 59.71058329\n",
      " 59.61523869 59.54174251 59.45295013 59.34578218]\n",
      "Tiempos libres de servidores:  [0.13914621 0.16516886 0.18071069 0.21466074 0.27118785 0.28941671\n",
      " 0.38476131 0.45825749 0.54704987 0.65421782]\n",
      "Tiempo de solicitudes en cola:  10709.4088\n",
      "Promedio de solicitudes en cola: 0.02985\n",
      "Tiempo de salida de la ultima solicitud atendida:  60.0049889\n"
     ]
    }
   ],
   "source": [
    "### Variables constantes para la simulacion\n",
    "solicitudes_max = 6000\n",
    "duracionSimulacion = 60\n",
    "speed = 1/(10*60)\n",
    "cpus = 10\n",
    "\n",
    "### Procesamiento de cada simulacion\n",
    "print(\"Simulacion para Ants smart computing con 10 CPU y una velocidad de\", round(speed, 5), \"solicitudes/s\")\n",
    "simular(duracionSimulacion,solicitudes_max, speed, cpus)\n"
   ]
  },
  {
   "cell_type": "markdown",
   "metadata": {},
   "source": [
    "## Task 4 - Determinacion de numero de servidores para no tener cola con Ants con 6000 solicitudes por minuto"
   ]
  },
  {
   "cell_type": "markdown",
   "metadata": {},
   "source": [
    "### Simulacion - 6000 solicitudes por minuto - Ants smart computing"
   ]
  },
  {
   "cell_type": "code",
   "execution_count": 10,
   "metadata": {},
   "outputs": [
    {
     "name": "stdout",
     "output_type": "stream",
     "text": [
      "Simulacion para Ants smart computing con 10 CPU y una velocidad de 0.00167 solicitudes/s\n",
      "Solicitudes atendidas:  [3.2482e+04 3.1890e+04 3.1397e+04 3.0556e+04 3.0005e+04 2.8548e+04\n",
      " 2.6864e+04 2.5770e+04 2.3450e+04 2.1242e+04 1.8639e+04 1.5721e+04\n",
      " 1.2786e+04 1.0032e+04 7.4030e+03 5.1810e+03 3.4800e+03 2.2130e+03\n",
      " 1.2420e+03 6.8400e+02 3.8300e+02 1.6400e+02 7.5000e+01 3.0000e+01\n",
      " 1.2000e+01 5.0000e+00 1.0000e+00 0.0000e+00 0.0000e+00 0.0000e+00]\n",
      "Tiempos de ocupacion de servidores:  [5.45789299e+01 5.37055653e+01 5.26096126e+01 5.14012904e+01\n",
      " 4.95870058e+01 4.78225224e+01 4.54815657e+01 4.24228220e+01\n",
      " 3.90356110e+01 3.53883388e+01 3.10172792e+01 2.62944013e+01\n",
      " 2.16894282e+01 1.66298692e+01 1.24049054e+01 8.71047347e+00\n",
      " 5.80287701e+00 3.58920438e+00 2.04902650e+00 1.11868579e+00\n",
      " 6.19608109e-01 2.93321572e-01 1.39986225e-01 5.80918175e-02\n",
      " 1.89184039e-02 1.00958011e-02 4.07435031e-04 0.00000000e+00\n",
      " 0.00000000e+00 0.00000000e+00]\n",
      "Tiempos libres de servidores:  [ 5.42107008  6.29443468  7.3903874   8.59870959 10.41299415 12.17747765\n",
      " 14.51843432 17.57717796 20.96438899 24.61166118 28.98272078 33.70559867\n",
      " 38.31057181 43.37013084 47.59509463 51.28952653 54.19712299 56.41079562\n",
      " 57.9509735  58.88131421 59.38039189 59.70667843 59.86001378 59.94190818\n",
      " 59.9810816  59.9899042  59.99959256 60.         60.         60.        ]\n",
      "Tiempo de solicitudes en cola:  0.0\n",
      "Promedio de solicitudes en cola: 0.0\n",
      "Tiempo de salida de la ultima solicitud atendida:  60.00281427\n"
     ]
    }
   ],
   "source": [
    "### Variables constantes para la simulacion\n",
    "solicitudes_max = 6000\n",
    "duracionSimulacion = 60\n",
    "speed = 1/(10*60)\n",
    "cpus = 30\n",
    "\n",
    "### Procesamiento de cada simulacion\n",
    "print(\"Simulacion para Ants smart computing con 10 CPU y una velocidad de\", round(speed, 5), \"solicitudes/s\")\n",
    "simular(duracionSimulacion,solicitudes_max, speed, cpus)"
   ]
  },
  {
   "cell_type": "markdown",
   "metadata": {},
   "source": [
    "## Task 5 - Recomendacion a la junta directiva"
   ]
  },
  {
   "cell_type": "markdown",
   "metadata": {},
   "source": [
    "Dado que se observa una mejora clara en el tiempo de espera para las solicitudes hechas, se recomienda alquilar 15 servidores para un numero de solicitudes de 2400, y de alquilar 30 servidores para 6000 solicitudes, ya que aunque alquilar más servidores podría reducir aún más el tiempo de espera, no se estaran utilizando todos cuando no se tenga una cantidad de solicitudes muy elevada, por lo cual sería un desperdicio del presupuesto. Es preferible tener menos servidores, pero que todos se estén aprovechando durante un flujo normal de solicitudes realizada, tomando como línea base 2400 y límite superior valores cercanos a 6000. Por lo tanto la cantidad de servidores que se recomienda alquilar se encuentra en un rango entre 15 y 30 servidores."
   ]
  }
 ],
 "metadata": {
  "kernelspec": {
   "display_name": "Python 3",
   "language": "python",
   "name": "python3"
  },
  "language_info": {
   "codemirror_mode": {
    "name": "ipython",
    "version": 3
   },
   "file_extension": ".py",
   "mimetype": "text/x-python",
   "name": "python",
   "nbconvert_exporter": "python",
   "pygments_lexer": "ipython3",
   "version": "3.8.1"
  }
 },
 "nbformat": 4,
 "nbformat_minor": 4
}
