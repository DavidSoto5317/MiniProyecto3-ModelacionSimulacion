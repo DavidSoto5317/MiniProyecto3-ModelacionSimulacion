{
 "cells": [
  {
   "cell_type": "markdown",
   "metadata": {},
   "source": [
    "# Miniproyecto 3"
   ]
  },
  {
   "cell_type": "markdown",
   "metadata": {},
   "source": [
    "### David Soto 17551 & Miguel Valle 17102"
   ]
  },
  {
   "cell_type": "code",
   "execution_count": 1,
   "metadata": {},
   "outputs": [],
   "source": [
    "### Librerias a utilizar para la simulacion\n",
    "import numpy as np\n",
    "import random"
   ]
  },
  {
   "cell_type": "markdown",
   "metadata": {},
   "source": [
    "### Función generadora de tiempos de estadía/salida"
   ]
  },
  {
   "cell_type": "code",
   "execution_count": 2,
   "metadata": {},
   "outputs": [],
   "source": [
    "# Funcion para calcular el proximo tiempo de llegada\n",
    "def tiempoProximaSalida(t, lamda_max, homo):\n",
    "    if homo:\n",
    "        return t - ((1/lamda_max)*np.log(random.random()))\n",
    "    else:\n",
    "        while True:\n",
    "            u = random.random()\n",
    "            t = t - ((1/lamda_max)*np.log(u))\n",
    "            u = random.random()\n",
    "            if u <= np.random.poisson(t)/lamda_max:\n",
    "                return t"
   ]
  },
  {
   "cell_type": "markdown",
   "metadata": {},
   "source": [
    "### Funcion simuladora de eventos"
   ]
  },
  {
   "cell_type": "code",
   "execution_count": 3,
   "metadata": {},
   "outputs": [],
   "source": [
    "### Funcion que determina cómo procede el evento segun el tiempo dela simulacion\n",
    "def evento(t, n, Na, C, busyTime, A, D, NT, ta, td, ids, lamda_max, no_cpus, speed):\n",
    "    ### Si la proxima peticion es el ultimo registrado en el sistema, entonces hay un servidor libre que lo puede atender\n",
    "    if ta == min(ta,min(td)): \n",
    "        t = ta\n",
    "        Na = Na + 1\n",
    "        ta = tiempoProximaSalida(t, lamda_max, True)\n",
    "        A[Na] = t\n",
    "        ### Si la cantidad de peticiones en el sistema es menor a la cantidad de cpus\n",
    "        ### es porque la proxima peticion puede ser procesada por un servidor\n",
    "        if n < no_cpus:\n",
    "            for i in range(no_cpus):\n",
    "                if ids[i] == 0:\n",
    "                    ids[i] = Na\n",
    "                    NT = np.append(NT, t - A[Na])\n",
    "                    td[i] = t + np.random.exponential(speed)\n",
    "                    busyTime[i] = busyTime[i] + td[i] - t\n",
    "                    break\n",
    "        n = n + 1\n",
    "    else:\n",
    "        ### Esto ocurre en caso de que no haya un servidor desocupado al momento de llegar\n",
    "        ti = np.argmin(td)\n",
    "        t = td[ti]\n",
    "        C[ti] = C[ti] + 1\n",
    "        D[ids[ti]] = t\n",
    "        ### En caso la cantidad de clientes sea menor o igual a la cantidad de servidores\n",
    "        ### Se libera un CPU\n",
    "        if n <= no_cpus:\n",
    "            ### Se elimina a la ultima peticion del ID register\n",
    "            ids[ti] = 0\n",
    "            td[ti] = np.infty\n",
    "        ### Si todavia hay mas clientes por atender\n",
    "        else: \n",
    "            indice = max(ids) + 1\n",
    "            ### Se actualiza el indice\n",
    "            ids[ti] = indice\n",
    "            NT = np.append(NT , t - A[indice])\n",
    "            td[ti] = t + np.random.exponential(speed)\n",
    "            busyTime[ti] = busyTime[ti] + td[ti] - t\n",
    "        n = n - 1\n",
    "        \n",
    "    ### Retornamos las variables para actualizacion y seguir el proceso de la simulacion \n",
    "    return t, n, Na, C, busyTime, A, D, NT, ta, td, ids"
   ]
  },
  {
   "cell_type": "markdown",
   "metadata": {},
   "source": [
    "### Funcion simuladora del procesamiento de peticiones"
   ]
  },
  {
   "cell_type": "code",
   "execution_count": 4,
   "metadata": {},
   "outputs": [],
   "source": [
    "### Funcion para realizar la simulacion\n",
    "def simular(duracion_simulacion, lamda_max, speed,no_cpus):\n",
    "    ### Variable de tiempo de simulacion\n",
    "    t = 0\n",
    "    \n",
    "    # Variables contadores\n",
    "    Na = 0\n",
    "    C = np.zeros(no_cpus) \n",
    "    busyTime = np.zeros(no_cpus)\n",
    "    \n",
    "    ### Variable estado del sistema\n",
    "    n = 0\n",
    "\n",
    "    ### Variables para el control de datos\n",
    "    A = {}\n",
    "    D = {}\n",
    "    NT = []\n",
    "    \n",
    "    # Variables de eventos de tiempos de llegada y salida\n",
    "    ta = tiempoProximaSalida(t,lamda_max, True)\n",
    "    td = np.zeros(no_cpus) + np.infty\n",
    "    ids = np.zeros(no_cpus)\n",
    "    \n",
    "    # Se realiza la simulacion hasta que se llegue al tiempo final de esta\n",
    "    while t < duracion_simulacion:\n",
    "        ### Realizamos la simulacion de un evento al timepo t\n",
    "        t, n, Na, C, busyTime, A, D, NT, ta, td, ids = evento(t, n, Na, C, busyTime, A, D, NT, ta, td, ids, lamda_max, no_cpus, speed)\n",
    "        \n",
    "    ### Obtenemos el tiempo de salida de la ultima solicitud atendida\n",
    "    copiaArreglo = td\n",
    "    tiemposSalida = []\n",
    "    for i in copiaArreglo:\n",
    "        if not np.isinf(i):\n",
    "            tiemposSalida.append(i)\n",
    "\n",
    "    ### Obtenemos los segundos promedio por solicitud\n",
    "    copiaArreglo = NT\n",
    "    segundoSolicitud = []\n",
    "    cantidadSolicitudes = 0\n",
    "    for i in copiaArreglo:\n",
    "        if i != 0:\n",
    "            segundoSolicitud.append(1/i)\n",
    "        cantidadSolicitudes = cantidadSolicitudes + 1\n",
    "    \n",
    "\n",
    "    ### Mostramos los resultados de las variables de la somulacion\n",
    "    print(\"Solicitudes atendidas: \", C)\n",
    "    print(\"Tiempos ocupado de servidores: \", busyTime)\n",
    "    print(\"Tiempos desocupado o IDLE de servidores: \", np.maximum(np.ones(no_cpus)*duracion_simulacion - busyTime,0))\n",
    "    print(\"Tiempo total de solicitudes en cola: \", np.round(sum(NT),5))\n",
    "    print(\"Promedio de solicitudes por segunda en cola:\", np.round(np.mean(NT),5))\n",
    "    print(\"Promedio de segundos por solicitud en cola:\", np.round(sum(segundoSolicitud)/cantidadSolicitudes,5))\n",
    "    print(\"Tiempo de salida de la ultima solicitud atendida: \", np.round(max(tiemposSalida),8))"
   ]
  },
  {
   "cell_type": "markdown",
   "metadata": {},
   "source": [
    "## Task 1 - Simulacion con 2400 solicitudes por minuto"
   ]
  },
  {
   "cell_type": "markdown",
   "metadata": {},
   "source": [
    "### Simulacion - 2400 solicitudes por minuto -  Gorilla Megacomputing"
   ]
  },
  {
   "cell_type": "code",
   "execution_count": 6,
   "metadata": {},
   "outputs": [
    {
     "name": "stdout",
     "output_type": "stream",
     "text": [
      "Simulacion para Gorilla Megacomputing con 1 CPU y una velocidad de 0.00017 solicitudes/s\n",
      "Solicitudes atendidas:  [144150.]\n",
      "Tiempos ocupado de servidores:  [24.1571796]\n",
      "Tiempos desocupado o IDLE de servidores:  [35.8428204]\n",
      "Tiempo total de solicitudes en cola:  16.17947\n",
      "Promedio de solicitudes por segunda en cola: 0.00011\n",
      "Promedio de segundos por solicitud en cola: 13801.87958\n",
      "Tiempo de salida de la ultima solicitud atendida:  60.00080362\n"
     ]
    }
   ],
   "source": [
    "### Variables constantes para la simulacion\n",
    "solicitudes_max = 2400\n",
    "duracionSimulacion = 60\n",
    "speed = 1/(100*60)\n",
    "cpus = 1\n",
    "\n",
    "### Procesamiento de cada simulacion\n",
    "print(\"Simulacion para Gorilla Megacomputing con 1 CPU y una velocidad de\", round(speed, 5), \"solicitudes/s\")\n",
    "simular(duracionSimulacion,solicitudes_max, speed, cpus)\n"
   ]
  },
  {
   "cell_type": "markdown",
   "metadata": {},
   "source": [
    "### Simulacion - 2400 solicitudes por minuto - Ants smart computing"
   ]
  },
  {
   "cell_type": "code",
   "execution_count": 7,
   "metadata": {
    "scrolled": true
   },
   "outputs": [
    {
     "name": "stdout",
     "output_type": "stream",
     "text": [
      "Simulacion para Ants smart computing con 10 CPU y una velocidad de 0.00167 solicitudes/s\n",
      "Solicitudes atendidas:  [28711. 26773. 23874. 20320. 16214. 11918.  7834.  4620.  2510.  1252.]\n",
      "Tiempos ocupado de servidores:  [48.16250509 44.31704777 39.55490468 33.42812442 26.85719644 19.72347513\n",
      " 13.05597708  7.75081692  4.16618087  2.06325442]\n",
      "Tiempos desocupado o IDLE de servidores:  [11.83749491 15.68295223 20.44509532 26.57187558 33.14280356 40.27652487\n",
      " 46.94402292 52.24918308 55.83381913 57.93674558]\n",
      "Tiempo total de solicitudes en cola:  0.29525\n",
      "Promedio de solicitudes por segunda en cola: 0.0\n",
      "Promedio de segundos por solicitud en cola: 272.69906\n",
      "Tiempo de salida de la ultima solicitud atendida:  60.0029652\n"
     ]
    }
   ],
   "source": [
    "### Variables constantes para la simulacion\n",
    "solicitudes_max = 2400\n",
    "duracionSimulacion = 60\n",
    "speed = 1/(10*60)\n",
    "cpus = 10\n",
    "\n",
    "### Procesamiento de cada simulacion\n",
    "print(\"Simulacion para Ants smart computing con 10 CPU y una velocidad de\", round(speed, 5), \"solicitudes/s\")\n",
    "simular(duracionSimulacion,solicitudes_max, speed, cpus)\n"
   ]
  },
  {
   "cell_type": "markdown",
   "metadata": {},
   "source": [
    "## Task 2 - Determinacion de numero de servidores para no tener cola con Ants con 2400 solicitudes por minuto"
   ]
  },
  {
   "cell_type": "markdown",
   "metadata": {},
   "source": [
    "### Simulacion - 2400 solicitudes por minuto - Ants smart computing"
   ]
  },
  {
   "cell_type": "code",
   "execution_count": 8,
   "metadata": {},
   "outputs": [
    {
     "name": "stdout",
     "output_type": "stream",
     "text": [
      "Simulacion para Ants smart computing con 10 CPU y una velocidad de 0.00167 solicitudes/s\n",
      "Solicitudes atendidas:  [2.9000e+04 2.6537e+04 2.3638e+04 2.0251e+04 1.6120e+04 1.1873e+04\n",
      " 7.9370e+03 4.7780e+03 2.4510e+03 1.1850e+03 4.7900e+02 1.9600e+02\n",
      " 6.3000e+01 2.1000e+01 3.0000e+00]\n",
      "Tiempos ocupado de servidores:  [4.79220307e+01 4.43281649e+01 3.96537521e+01 3.35825270e+01\n",
      " 2.68578359e+01 1.97336986e+01 1.33055234e+01 7.94158171e+00\n",
      " 4.06200498e+00 1.93808579e+00 8.77698183e-01 3.15991279e-01\n",
      " 1.24972875e-01 3.64303369e-02 8.27687978e-03]\n",
      "Tiempos desocupado o IDLE de servidores:  [12.07796928 15.67183509 20.34624789 26.41747304 33.14216409 40.26630143\n",
      " 46.69447656 52.05841829 55.93799502 58.06191421 59.12230182 59.68400872\n",
      " 59.87502712 59.96356966 59.99172312]\n",
      "Tiempo total de solicitudes en cola:  0.0\n",
      "Promedio de solicitudes por segunda en cola: 0.0\n",
      "Promedio de segundos por solicitud en cola: 0.0\n",
      "Tiempo de salida de la ultima solicitud atendida:  60.00465181\n"
     ]
    }
   ],
   "source": [
    "### Variables constantes para la simulacion\n",
    "solicitudes_max = 2400\n",
    "duracionSimulacion = 60\n",
    "speed = 1/(10*60)\n",
    "cpus = 15\n",
    "\n",
    "### Procesamiento de cada simulacion\n",
    "print(\"Simulacion para Ants smart computing con 10 CPU y una velocidad de\", round(speed, 5), \"solicitudes/s\")\n",
    "simular(duracionSimulacion,solicitudes_max, speed, cpus)"
   ]
  },
  {
   "cell_type": "markdown",
   "metadata": {},
   "source": [
    "## Task 3 - Simulacion con 6000 solicitudes por minuto"
   ]
  },
  {
   "cell_type": "markdown",
   "metadata": {},
   "source": [
    "### Simulacion - 6000 solicitudes por minuto - Gorilla Megacomputing"
   ]
  },
  {
   "cell_type": "code",
   "execution_count": 9,
   "metadata": {},
   "outputs": [
    {
     "name": "stdout",
     "output_type": "stream",
     "text": [
      "Simulacion para Gorilla Megacomputing con 1 CPU y una velocidad de 0.00017 solicitudes/s\n",
      "Solicitudes atendidas:  [358945.]\n",
      "Tiempos ocupado de servidores:  [59.80776491]\n",
      "Tiempos desocupado o IDLE de servidores:  [0.19223509]\n",
      "Tiempo total de solicitudes en cola:  24982.55333\n",
      "Promedio de solicitudes por segunda en cola: 0.0696\n",
      "Promedio de segundos por solicitud en cola: 213.91005\n",
      "Tiempo de salida de la ultima solicitud atendida:  60.0001244\n"
     ]
    }
   ],
   "source": [
    "### Variables constantes para la simulacion\n",
    "solicitudes_max = 6000\n",
    "duracionSimulacion = 60\n",
    "speed = 1/(100*60)\n",
    "cpus = 1\n",
    "\n",
    "### Procesamiento de cada simulacion\n",
    "print(\"Simulacion para Gorilla Megacomputing con 1 CPU y una velocidad de\", round(speed, 5), \"solicitudes/s\")\n",
    "simular(duracionSimulacion,solicitudes_max, speed, cpus)\n"
   ]
  },
  {
   "cell_type": "markdown",
   "metadata": {},
   "source": [
    "### Simulacion - 6000 solicitudes por minuto - Ants smart computing"
   ]
  },
  {
   "cell_type": "code",
   "execution_count": 10,
   "metadata": {
    "scrolled": true
   },
   "outputs": [
    {
     "name": "stdout",
     "output_type": "stream",
     "text": [
      "Simulacion para Ants smart computing con 10 CPU y una velocidad de 0.00167 solicitudes/s\n",
      "Solicitudes atendidas:  [35811. 35897. 35669. 36031. 36180. 35943. 36063. 35863. 35868. 35873.]\n",
      "Tiempos ocupado de servidores:  [59.9821015  59.97730015 59.97630106 59.96313795 59.96482392 59.9461379\n",
      " 59.94527722 59.93105132 59.9233265  59.89553427]\n",
      "Tiempos desocupado o IDLE de servidores:  [0.0178985  0.02269985 0.02369894 0.03686205 0.03517608 0.0538621\n",
      " 0.05472278 0.06894868 0.0766735  0.10446573]\n",
      "Tiempo total de solicitudes en cola:  42284.06297\n",
      "Promedio de solicitudes por segunda en cola: 0.11771\n",
      "Promedio de segundos por solicitud en cola: 67.06999\n",
      "Tiempo de salida de la ultima solicitud atendida:  60.00899053\n"
     ]
    }
   ],
   "source": [
    "### Variables constantes para la simulacion\n",
    "solicitudes_max = 6000\n",
    "duracionSimulacion = 60\n",
    "speed = 1/(10*60)\n",
    "cpus = 10\n",
    "\n",
    "### Procesamiento de cada simulacion\n",
    "print(\"Simulacion para Ants smart computing con 10 CPU y una velocidad de\", round(speed, 5), \"solicitudes/s\")\n",
    "simular(duracionSimulacion,solicitudes_max, speed, cpus)\n"
   ]
  },
  {
   "cell_type": "markdown",
   "metadata": {},
   "source": [
    "## Task 4 - Determinacion de numero de servidores para no tener cola con Ants con 6000 solicitudes por minuto"
   ]
  },
  {
   "cell_type": "markdown",
   "metadata": {},
   "source": [
    "### Simulacion - 6000 solicitudes por minuto - Ants smart computing"
   ]
  },
  {
   "cell_type": "code",
   "execution_count": 11,
   "metadata": {},
   "outputs": [
    {
     "name": "stdout",
     "output_type": "stream",
     "text": [
      "Simulacion para Ants smart computing con 10 CPU y una velocidad de 0.00167 solicitudes/s\n",
      "Solicitudes atendidas:  [3.2471e+04 3.2187e+04 3.1388e+04 3.0802e+04 2.9726e+04 2.8663e+04\n",
      " 2.7374e+04 2.5430e+04 2.3506e+04 2.1115e+04 1.8513e+04 1.5921e+04\n",
      " 1.2825e+04 9.9720e+03 7.2410e+03 5.1640e+03 3.4340e+03 2.0690e+03\n",
      " 1.2600e+03 6.8100e+02 3.5500e+02 1.6500e+02 5.6000e+01 1.9000e+01\n",
      " 8.0000e+00 2.0000e+00 0.0000e+00 0.0000e+00 0.0000e+00 0.0000e+00]\n",
      "Tiempos ocupado de servidores:  [5.46226503e+01 5.36444478e+01 5.25407519e+01 5.12731626e+01\n",
      " 4.96964115e+01 4.76803601e+01 4.54711589e+01 4.25531076e+01\n",
      " 3.91959483e+01 3.52054587e+01 3.10408046e+01 2.62572636e+01\n",
      " 2.14880274e+01 1.67694645e+01 1.22292925e+01 8.41657290e+00\n",
      " 5.82213749e+00 3.62793862e+00 2.02683990e+00 1.11075583e+00\n",
      " 5.34585833e-01 2.82970821e-01 1.07716224e-01 3.64045490e-02\n",
      " 1.13301272e-02 3.15641459e-03 0.00000000e+00 0.00000000e+00\n",
      " 0.00000000e+00 0.00000000e+00]\n",
      "Tiempos desocupado o IDLE de servidores:  [ 5.37734973  6.35555221  7.45924815  8.7268374  10.30358846 12.31963995\n",
      " 14.5288411  17.44689241 20.80405169 24.79454135 28.95919545 33.74273643\n",
      " 38.51197263 43.2305355  47.77070754 51.5834271  54.17786251 56.37206138\n",
      " 57.9731601  58.88924417 59.46541417 59.71702918 59.89228378 59.96359545\n",
      " 59.98866987 59.99684359 60.         60.         60.         60.        ]\n",
      "Tiempo total de solicitudes en cola:  0.0\n",
      "Promedio de solicitudes por segunda en cola: 0.0\n",
      "Promedio de segundos por solicitud en cola: 0.0\n",
      "Tiempo de salida de la ultima solicitud atendida:  60.00303184\n"
     ]
    }
   ],
   "source": [
    "### Variables constantes para la simulacion\n",
    "solicitudes_max = 6000\n",
    "duracionSimulacion = 60\n",
    "speed = 1/(10*60)\n",
    "cpus = 30\n",
    "\n",
    "### Procesamiento de cada simulacion\n",
    "print(\"Simulacion para Ants smart computing con 10 CPU y una velocidad de\", round(speed, 5), \"solicitudes/s\")\n",
    "simular(duracionSimulacion,solicitudes_max, speed, cpus)"
   ]
  },
  {
   "cell_type": "markdown",
   "metadata": {},
   "source": [
    "## Task 5 - Recomendacion a la junta directiva"
   ]
  },
  {
   "cell_type": "markdown",
   "metadata": {},
   "source": [
    "Dado que se observa una mejora clara en el tiempo de espera para las solicitudes hechas, se recomienda alquilar 15 servidores para un numero de solicitudes de 2400, y de alquilar 30 servidores para 6000 solicitudes, ya que aunque alquilar más servidores podría reducir aún más el tiempo de espera, no se estaran utilizando todos cuando no se tenga una cantidad de solicitudes muy elevada, por lo cual sería un desperdicio del presupuesto. Es preferible tener menos servidores, pero que todos se estén aprovechando durante un flujo normal de solicitudes realizada, tomando como línea base 2400 y límite superior valores cercanos a 6000. Por lo tanto la cantidad de servidores que se recomienda alquilar se encuentra en un rango entre 15 y 30 servidores."
   ]
  }
 ],
 "metadata": {
  "kernelspec": {
   "display_name": "Python 3",
   "language": "python",
   "name": "python3"
  },
  "language_info": {
   "codemirror_mode": {
    "name": "ipython",
    "version": 3
   },
   "file_extension": ".py",
   "mimetype": "text/x-python",
   "name": "python",
   "nbconvert_exporter": "python",
   "pygments_lexer": "ipython3",
   "version": "3.8.1"
  }
 },
 "nbformat": 4,
 "nbformat_minor": 4
}
